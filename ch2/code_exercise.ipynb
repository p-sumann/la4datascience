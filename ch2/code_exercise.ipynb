{
 "cells": [
  {
   "cell_type": "code",
   "execution_count": 1,
   "metadata": {},
   "outputs": [],
   "source": [
    "l1, l2, l3 = 1, 2, -3"
   ]
  },
  {
   "cell_type": "code",
   "execution_count": 2,
   "metadata": {},
   "outputs": [],
   "source": [
    "import numpy as np"
   ]
  },
  {
   "cell_type": "markdown",
   "metadata": {},
   "source": [
    "Linear Weighted combination"
   ]
  },
  {
   "cell_type": "code",
   "execution_count": 3,
   "metadata": {},
   "outputs": [],
   "source": [
    "v1 = np.array([4,5,1]).reshape(3,1)\n",
    "v2 = np.array([-4, 0, -4]).reshape(3,1)\n",
    "v3 = np.array([1,3,2]).reshape(3,1)"
   ]
  },
  {
   "cell_type": "code",
   "execution_count": 4,
   "metadata": {},
   "outputs": [
    {
     "data": {
      "text/plain": [
       "array([[ 4, -4,  1],\n",
       "       [ 5,  0,  3],\n",
       "       [ 1, -4,  2]])"
      ]
     },
     "execution_count": 4,
     "metadata": {},
     "output_type": "execute_result"
    }
   ],
   "source": [
    "v1 = np.array([4,5,1])\n",
    "v2 = np.array([-4, 0, -4])\n",
    "v3 = np.array([1,3,2])\n",
    "np.column_stack((v1,v2,v3))"
   ]
  },
  {
   "cell_type": "code",
   "execution_count": 5,
   "metadata": {},
   "outputs": [
    {
     "data": {
      "text/plain": [
       "array([ -7,  -4, -13])"
      ]
     },
     "execution_count": 5,
     "metadata": {},
     "output_type": "execute_result"
    }
   ],
   "source": [
    "w = l1*v1 + l2*v2 + l3*v3\n",
    "w"
   ]
  },
  {
   "cell_type": "code",
   "execution_count": null,
   "metadata": {},
   "outputs": [],
   "source": [
    "# exercise 2\n",
    "\n",
    "scalars = [l1, l2, l3]\n",
    "vectors = [v1, v2, v3]"
   ]
  },
  {
   "cell_type": "code",
   "execution_count": 8,
   "metadata": {},
   "outputs": [],
   "source": [
    "linear_comibnation = np.zeros(len(v1))"
   ]
  },
  {
   "cell_type": "code",
   "execution_count": 10,
   "metadata": {},
   "outputs": [
    {
     "data": {
      "text/plain": [
       "array([-14.,  -8., -26.])"
      ]
     },
     "execution_count": 10,
     "metadata": {},
     "output_type": "execute_result"
    }
   ],
   "source": [
    "for i,j in zip(scalars, vectors):\n",
    "    linear_comibnation += i * j\n",
    "linear_comibnation"
   ]
  },
  {
   "cell_type": "code",
   "execution_count": 12,
   "metadata": {},
   "outputs": [
    {
     "data": {
      "image/png": "[encoded data removed]",
      "text/plain": [
       "<Figure size 600x600 with 1 Axes>"
      ]
     },
     "metadata": {},
     "output_type": "display_data"
    }
   ],
   "source": [
    "# exercise 3\n",
    "# the vector set (just one vector)\n",
    "import matplotlib.pyplot as plt\n",
    "A  = np.array([ 1,3 ])\n",
    "\n",
    "# x-axis range\n",
    "xlim = [-4,4]\n",
    "\n",
    "# random scalars in that range\n",
    "scalars = np.random.uniform(low=xlim[0],high=xlim[1],size=100)\n",
    "\n",
    "\n",
    "\n",
    "# create a figure, etc\n",
    "plt.figure(figsize=(6,6))\n",
    "\n",
    "# loop over the random scalars\n",
    "for s in scalars:\n",
    "\n",
    "  # create point p\n",
    "  p = A*s\n",
    "\n",
    "  # plot it\n",
    "  plt.plot(p[0],p[1],'ko')\n",
    "\n",
    "\n",
    "plt.xlim(xlim)\n",
    "plt.ylim(xlim)\n",
    "plt.grid()\n",
    "plt.show()"
   ]
  }
 ],
 "metadata": {
  "kernelspec": {
   "display_name": "documentai",
   "language": "python",
   "name": "python3"
  },
  "language_info": {
   "codemirror_mode": {
    "name": "ipython",
    "version": 3
   },
   "file_extension": ".py",
   "mimetype": "text/x-python",
   "name": "python",
   "nbconvert_exporter": "python",
   "pygments_lexer": "ipython3",
   "version": "3.12.3"
  }
 },
 "nbformat": 4,
 "nbformat_minor": 2
}
